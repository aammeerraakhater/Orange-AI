{
 "cells": [
  {
   "cell_type": "markdown",
   "id": "f1d6e8c9",
   "metadata": {},
   "source": [
    "### Task 1: blocking website from router ###"
   ]
  },
  {
   "cell_type": "markdown",
   "id": "ad2f0d87",
   "metadata": {},
   "source": [
    "<pre>Most routers have this section under the ‘basic rules’, ‘firewall’, or ‘content’ section, where you can find the URL content filter.\n",
    "Add the URL of the website you want to block to the Blacklist or content filter on your router, and it’ll block it at the source.</pre>"
   ]
  },
  {
   "cell_type": "markdown",
   "id": "00e4aea4",
   "metadata": {},
   "source": [
    "### UML diagrams ###"
   ]
  },
  {
   "cell_type": "code",
   "execution_count": null,
   "id": "00a344ec",
   "metadata": {},
   "outputs": [],
   "source": []
  },
  {
   "cell_type": "markdown",
   "id": "0efe77a0",
   "metadata": {},
   "source": [
    "### task3: Inheritance types ###"
   ]
  },
  {
   "attachments": {},
   "cell_type": "markdown",
   "id": "f08b4b56",
   "metadata": {},
   "source": [
    "<pre>\n",
    "Single inheritance: enables a derived class to inherit properties and behavior from a single parent class. It allows a derived class to inherit the properties and behavior of a base class.\n",
    "\n",
    "Multiple inheritance:a feature of some object-oriented programming languages in which a class or an object inherits characteristics and properties from more than one parent class or object\n",
    "![hybrid-inheritance-in-cpp4.png](attachment:hybrid-inheritance-in-cpp4.png)\n",
    "Herircal inheritance:\n",
    "Hyprid inheritance:"
   ]
  }
 ],
 "metadata": {
  "kernelspec": {
   "display_name": "Python 3 (ipykernel)",
   "language": "python",
   "name": "python3"
  },
  "language_info": {
   "codemirror_mode": {
    "name": "ipython",
    "version": 3
   },
   "file_extension": ".py",
   "mimetype": "text/x-python",
   "name": "python",
   "nbconvert_exporter": "python",
   "pygments_lexer": "ipython3",
   "version": "3.10.2"
  }
 },
 "nbformat": 4,
 "nbformat_minor": 5
}
