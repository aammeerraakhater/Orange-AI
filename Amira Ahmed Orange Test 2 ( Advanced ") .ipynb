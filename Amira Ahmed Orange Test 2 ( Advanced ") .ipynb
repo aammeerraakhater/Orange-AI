{
 "cells": [
  {
   "cell_type": "markdown",
   "id": "37b3e579",
   "metadata": {},
   "source": [
    "### Question 1 \n",
    "Define Microservice Architecture Pattern"
   ]
  },
  {
   "cell_type": "markdown",
   "id": "2e74c122",
   "metadata": {},
   "source": [
    "Architecture Pattern is the way we organize files, that would give us optimal usage<br>\n",
    "Microservice Architecture Pattern : is the way we organize the microservices files, so it would give us the optimal way to use it"
   ]
  },
  {
   "cell_type": "markdown",
   "id": "c35aa2e0",
   "metadata": {},
   "source": [
    "### Question 2\n",
    "What is the difference between: Paging, Segmentation, Fragmentation"
   ]
  },
  {
   "cell_type": "markdown",
   "id": "1def37e7",
   "metadata": {},
   "source": [
    "\n",
    "paging: is the the way of equally distributing instructions|data so it would be executed together, stored and get called together \n",
    "\n",
    "Segmentation: is the way of distributing data randomly, it doesn't have to be equally distributed\n",
    "\n",
    "Fragmentation: is moving the data from the memory to different place to ensure the optimal usage of the data, fragementation happens when the memory is searching for a place to store data of different sizes, then gaps would happen in the memory, this gaps can't be used in storing the data, so fragmentation happen to move the stored data in more suitable place, so we can use the spaces between them\n",
    "\n",
    "Both paging and segmentation are related to virtual memory, when the ram's space is full and more memory is needed, then paging|segmentation happen to start using the secondary memory to free some space in the RAM"
   ]
  },
  {
   "cell_type": "markdown",
   "id": "f72dc7fa",
   "metadata": {},
   "source": [
    "### Question 3\n",
    "Calculate The complexity of the following code: \n",
    "\n",
    "int x; <br> \n",
    "cin >> x; <br> \n",
    "\n",
    "for (int i= 0 ; i < sqrt(x); i++) <br>\n",
    "{ <br> \n",
    " for ( int j = 0 ; j < x ; j++) <br>\n",
    "  cout << i << endl ; <br>\n",
    "} <br> \n",
    "    "
   ]
  },
  {
   "cell_type": "markdown",
   "id": "4c423cd7",
   "metadata": {},
   "source": [
    "O(n power(3/2))"
   ]
  },
  {
   "cell_type": "markdown",
   "id": "67edc9c8",
   "metadata": {},
   "source": [
    "### Question 4\n",
    "\n",
    "Comapre between Harvard and Von neumann Architectures "
   ]
  },
  {
   "cell_type": "markdown",
   "id": "bee2ef18",
   "metadata": {},
   "source": [
    "Harvard is the architecture where data and instructions are separated from each other, harvard was made when we reached the von nuemann bottle neck when we both needed data and instructions but both can't be reached cause they are both in the same place \n",
    "\n",
    "Von neumann Architectures is the architecture where data and instructions are stored in the same place in the memory"
   ]
  },
  {
   "cell_type": "markdown",
   "id": "10c0f061",
   "metadata": {},
   "source": [
    "### Question 5\n",
    "Compare Between RISC and SISC "
   ]
  },
  {
   "cell_type": "markdown",
   "id": "5de98e9a",
   "metadata": {},
   "source": [
    "RISC reduced instruction system computing, RISC is built on the idea of giving the processor simple instruction that would be executed in one cycle,it depends on making more simple \"software\" RISC is used in ARM, also RISC is used by apple in it's processors  \n",
    "\n",
    "CICS complex instruction system computing, is built on the idea of giving the processor more complex instructions, it depends on the idea of more complex \"software\" but simple hardware.\n",
    "that would be executed together, is used by Nividia "
   ]
  },
  {
   "cell_type": "markdown",
   "id": "d0f40eb9",
   "metadata": {},
   "source": [
    "### Question 6\n",
    "Explain How Hash maps stores data in memory"
   ]
  },
  {
   "cell_type": "markdown",
   "id": "8d609886",
   "metadata": {},
   "source": [
    "Hash table store data in a form of key and data, so it's stored as an array, we select the position of the data by using a hash function, if we found an item in this position -collision- we do linear probing or use any other method to avoid collision "
   ]
  },
  {
   "cell_type": "markdown",
   "id": "216d770a",
   "metadata": {},
   "source": [
    "### Question 7\n",
    "Compare between Stack and Heap"
   ]
  },
  {
   "cell_type": "markdown",
   "id": "9586ec77",
   "metadata": {},
   "source": [
    "<table>\n",
    "    <tr>\n",
    "        <th>stack</th>\n",
    "        <th>Heap</th>\n",
    "    </tr>\n",
    "    <tr>\n",
    "        <td>used to store local variables, output of the function</td>\n",
    "        <td>used to store global variables</td>\n",
    "    </tr>\n",
    "    <tr>\n",
    "        <td>can be full and then we remove from it</td>\n",
    "        <td>won't be full</td>\n",
    "    </tr>\n",
    "</table>"
   ]
  },
  {
   "cell_type": "markdown",
   "id": "7affc9df",
   "metadata": {},
   "source": [
    "### Question 8 ( Bonus ) \n",
    "How to become the Owner of the Company you work in "
   ]
  },
  {
   "cell_type": "markdown",
   "id": "8301c9c7",
   "metadata": {},
   "source": [
    "intern -> fresh grad -> junior -> senior -> team leader -> CTO -> get to CEO position and then marry the owner's child *keep it ethical*"
   ]
  },
  {
   "cell_type": "markdown",
   "id": "b81435d9",
   "metadata": {},
   "source": [
    "### Question 9\n",
    "What are the benifits of unstructured database"
   ]
  },
  {
   "cell_type": "markdown",
   "id": "16d8a35d",
   "metadata": {},
   "source": [
    "gives more flexibilty, adding removing rows and columns,  "
   ]
  },
  {
   "cell_type": "markdown",
   "id": "ea69d640",
   "metadata": {},
   "source": [
    "### Question 10\n",
    "Mention 3 Frameworks to implment AI in C++"
   ]
  },
  {
   "cell_type": "markdown",
   "id": "d487908a",
   "metadata": {},
   "source": [
    "<pre>cafe \n",
    "tensorflow \n",
    "\n",
    "\n",
    "oat++ (is it ai framework?)</pre>"
   ]
  },
  {
   "cell_type": "markdown",
   "id": "1ea29116",
   "metadata": {},
   "source": [
    "### Question 11\n",
    "What are the main phases in SDLC"
   ]
  },
  {
   "cell_type": "markdown",
   "id": "056e494d",
   "metadata": {},
   "source": [
    "<pre>analysis \n",
    "requirment \n",
    "design \n",
    "implement \n",
    "test \n",
    "launch</pre>"
   ]
  },
  {
   "cell_type": "markdown",
   "id": "ed92ab26",
   "metadata": {},
   "source": [
    "### Question 12\n",
    "What are the most common DevOPs tools"
   ]
  },
  {
   "cell_type": "markdown",
   "id": "d62a8173",
   "metadata": {},
   "source": []
  },
  {
   "cell_type": "markdown",
   "id": "9dc101c8",
   "metadata": {},
   "source": [
    "### Question 13\n",
    "Why Vector are the second best Container after Arrays "
   ]
  },
  {
   "cell_type": "markdown",
   "id": "ad9e9ed4",
   "metadata": {},
   "source": [
    "because it's optimal time and flexibilty"
   ]
  },
  {
   "cell_type": "markdown",
   "id": "bc6e23c3",
   "metadata": {},
   "source": [
    "### Question 14\n",
    "Write the pseudocode for Binary Search Algorithm"
   ]
  },
  {
   "cell_type": "markdown",
   "id": "c7c6618f",
   "metadata": {},
   "source": []
  },
  {
   "cell_type": "markdown",
   "id": "40220bec",
   "metadata": {},
   "source": [
    "### Question 15 \n",
    "What are the dark side of cronjobs, please explain..."
   ]
  },
  {
   "cell_type": "markdown",
   "id": "f9348f42",
   "metadata": {},
   "source": [
    "<pre>1-time span between 2 jobs should be at least 1 minute, what if i would to scedule jobs that have kess time span between them\n",
    "2-if error happen what would happen \n",
    "3-cron jobs pulling </pre>"
   ]
  },
  {
   "cell_type": "markdown",
   "id": "45148f74",
   "metadata": {},
   "source": [
    "### Question 16\n",
    "We have studied basic programming, swe, operating systems, database and more.... \n",
    "can you describe how a data can be operated on from being inside a database until being printed on the screen"
   ]
  },
  {
   "cell_type": "markdown",
   "id": "6d88a3ff",
   "metadata": {},
   "source": [
    "db is stored on secondary memory storage, so we search for the data we need, carry this data from secondary memory storage through internal buses to the ram where it can be printed on the screen "
   ]
  },
  {
   "cell_type": "markdown",
   "id": "7f8270bf",
   "metadata": {},
   "source": [
    "### Question 17\n",
    "Explain Each principle of solid principles"
   ]
  },
  {
   "cell_type": "markdown",
   "id": "c1dc1dd0",
   "metadata": {},
   "source": [
    "<pre>s:\n",
    "o : oop?\n",
    "l : liquidity ??\n",
    "i : input/ output \n",
    "d : dependancy injection\n",
    "</pre>"
   ]
  },
  {
   "cell_type": "markdown",
   "id": "4b8fb996",
   "metadata": {},
   "source": [
    "### Question 18\n",
    "Why is it okay to implement AI using OOP"
   ]
  },
  {
   "cell_type": "markdown",
   "id": "3e6f8293",
   "metadata": {},
   "source": [
    "because there is  ai already implemented using oop, it's secure."
   ]
  },
  {
   "cell_type": "markdown",
   "id": "8a1904c4",
   "metadata": {},
   "source": [
    "### Question 19\n",
    "Which is faster, Structured or Unstructured Database, and why?"
   ]
  },
  {
   "cell_type": "markdown",
   "id": "346a5af8",
   "metadata": {},
   "source": [
    "Structured db because data is stored in a sequential way in the memory, but unstructured db is stored randomly away from each other so it takes more time"
   ]
  },
  {
   "cell_type": "markdown",
   "id": "6a7db5af",
   "metadata": {},
   "source": [
    "### Question 20\n",
    "What are the 11v's of Big Data "
   ]
  },
  {
   "cell_type": "markdown",
   "id": "f736291a",
   "metadata": {},
   "source": [
    "<pre>\n",
    "value \n",
    "velocity\n",
    "varity\n",
    "varisty\n",
    "variaty\n",
    "</pre>"
   ]
  },
  {
   "cell_type": "markdown",
   "id": "76009086",
   "metadata": {},
   "source": [
    "### Question 21\n",
    "Mention all types of System Testing"
   ]
  },
  {
   "cell_type": "markdown",
   "id": "7af870c1",
   "metadata": {},
   "source": [
    "<pre>\n",
    "agile\n",
    "waterfall \n",
    "v-model\n",
    "</pre>"
   ]
  },
  {
   "cell_type": "markdown",
   "id": "656c1865",
   "metadata": {},
   "source": [
    "### Question 22\n",
    "AI is aimed to achieve two things, mention them "
   ]
  },
  {
   "cell_type": "markdown",
   "id": "d74ccc61",
   "metadata": {},
   "source": [
    "1- make the boring tasks human would rather not do\n",
    "\n",
    "2- see through lot of data and analyze them"
   ]
  },
  {
   "cell_type": "markdown",
   "id": "e766d74b",
   "metadata": {},
   "source": [
    "### Question 23\n",
    "Why Companies can't move from OOP to Functional programming, when must they?"
   ]
  },
  {
   "cell_type": "markdown",
   "id": "fce5e57b",
   "metadata": {},
   "source": [
    "because moving form oop to functional means rebuilding the code to be suitable for such change\n",
    "\n",
    "they must move when they are want faster code"
   ]
  },
  {
   "cell_type": "markdown",
   "id": "f30d1fd8",
   "metadata": {},
   "source": [
    "### Question 24\n",
    "When Will C++ take over the Embedded Systems Field"
   ]
  },
  {
   "cell_type": "markdown",
   "id": "48be5ccf",
   "metadata": {},
   "source": []
  },
  {
   "cell_type": "markdown",
   "id": "db485fd7",
   "metadata": {},
   "source": [
    "### Question 25\n",
    "Which Company has the best hardware Optimization?"
   ]
  },
  {
   "cell_type": "markdown",
   "id": "9d0e2b00",
   "metadata": {},
   "source": [
    "Apple "
   ]
  },
  {
   "cell_type": "markdown",
   "id": "25618eb9",
   "metadata": {},
   "source": [
    "### Question 26 ( Bonus ) ( MCQ ) \n",
    "Who are the best instructor you have ever seen? \n",
    "\n",
    "1. Ahmed Hafez \n",
    "\n",
    "Answer: ..........."
   ]
  },
  {
   "cell_type": "markdown",
   "id": "f24adabd",
   "metadata": {},
   "source": [
    "### Question 27\n",
    "if we want to make a prcoss run faster, what should we do? "
   ]
  },
  {
   "cell_type": "markdown",
   "id": "134c8bf7",
   "metadata": {},
   "source": [
    "use multi threads, check power computing, use parallel programming"
   ]
  },
  {
   "cell_type": "markdown",
   "id": "00e8aee0",
   "metadata": {},
   "source": [
    "### Question 28\n",
    "What are real time operating systems "
   ]
  },
  {
   "cell_type": "markdown",
   "id": "fd89454f",
   "metadata": {},
   "source": []
  },
  {
   "cell_type": "markdown",
   "id": "aec93cb9",
   "metadata": {},
   "source": [
    "### Question 29\n",
    "How to choose between using a colud or a server? "
   ]
  },
  {
   "cell_type": "markdown",
   "id": "f9c8e53b",
   "metadata": {},
   "source": [
    "<pre>should cloud if:\n",
    "1 you want unlimited access to space\n",
    "2 you don't need to worry about network\n",
    "3 you don't need to worry about fixing the server\n",
    "4 when you don't want to buy a server (DUH)\n",
    "</pre>"
   ]
  },
  {
   "cell_type": "markdown",
   "id": "157e5b00",
   "metadata": {},
   "source": [
    "### Question 30\n",
    "What are the basic mathematical topics in AI?"
   ]
  },
  {
   "cell_type": "markdown",
   "id": "2f96441e",
   "metadata": {},
   "source": [
    "<pre>\n",
    "calculas\n",
    "linear algebra (vector, matrices, ...)\n",
    "statistics\n",
    "</pre>"
   ]
  },
  {
   "cell_type": "markdown",
   "id": "fc0c2e0f",
   "metadata": {},
   "source": [
    "### Question 31\n",
    "How to choose between using a colud or a server? "
   ]
  },
  {
   "cell_type": "markdown",
   "id": "4f659723",
   "metadata": {},
   "source": [
    "..."
   ]
  },
  {
   "cell_type": "markdown",
   "id": "da4b0196",
   "metadata": {},
   "source": [
    "### Question 32\n",
    "What are distributed systems, how can optimize them for AI?"
   ]
  },
  {
   "cell_type": "markdown",
   "id": "fb154322",
   "metadata": {},
   "source": [
    "distributed systems is the idea of using several computers to compute tasks that needs high computational power, it happens by the contest of the owner of this devices, and it help reduce the load that is being put on one device.\n",
    "we can use that in ai to train model that requires high computational power"
   ]
  },
  {
   "cell_type": "markdown",
   "id": "472fb73e",
   "metadata": {},
   "source": [
    "### Question 33\n",
    "When would python become faster than C++? "
   ]
  },
  {
   "cell_type": "markdown",
   "id": "2255c190",
   "metadata": {},
   "source": [
    "when python start depending on a lower level language than cpp, when it become complied language"
   ]
  },
  {
   "cell_type": "markdown",
   "id": "24ba52d8",
   "metadata": {},
   "source": [
    "### Question 34\n",
    "When must we use Assembly"
   ]
  },
  {
   "cell_type": "markdown",
   "id": "90a9c826",
   "metadata": {},
   "source": [
    "when we want to be as low as possible to deal with hardware components, when we are concerned about the speed of the program, when we are already working on a priject that is implemented by assembly and we need to contiue the work "
   ]
  },
  {
   "cell_type": "markdown",
   "id": "fa70d45c",
   "metadata": {},
   "source": [
    "### Question 35\n",
    "What do you know about Crypto Currency / Blockchain ? "
   ]
  },
  {
   "cell_type": "markdown",
   "id": "a3c39704",
   "metadata": {},
   "source": [
    "Crypto Currency is a digital encrypted currency that promises encrypted transaction of the currency.\n",
    "Crypto Currency can be under the umbrella of communication platform, it's mostly used in gaming industry, it started with the apple industry but it stared to get recognized in the last 10 years or may be less. \n",
    "crypo was created to remove the extre restriction that banks have on the money. \n"
   ]
  },
  {
   "cell_type": "markdown",
   "id": "5c5b29b8",
   "metadata": {},
   "source": [
    "### Question 36\n",
    "if we have a repo called AI-Test, how would we upload it to github, please write the commands..."
   ]
  },
  {
   "cell_type": "markdown",
   "id": "32c8a456",
   "metadata": {},
   "source": [
    "<pre>\n",
    "git init \n",
    "git .... 'the link to the repo'\n",
    "// if we already created the repo and init it \n",
    "git add . \n",
    "git commit -m \"your msg here\"\n",
    "git push </pre>"
   ]
  },
  {
   "cell_type": "markdown",
   "id": "f7134120",
   "metadata": {},
   "source": [
    "### Question 37\n",
    "What are the good sides of SQL injection "
   ]
  },
  {
   "cell_type": "markdown",
   "id": "6b1f80b6",
   "metadata": {},
   "source": [
    "using the idea of SQL injection to protect the database from possible attacks on the db"
   ]
  },
  {
   "cell_type": "markdown",
   "id": "e23fc4cf",
   "metadata": {},
   "source": [
    "### Question 38\n",
    "What are the difference between functional and non-functional requirments"
   ]
  },
  {
   "cell_type": "markdown",
   "id": "a7297741",
   "metadata": {},
   "source": [
    "Functional requirments are the essential requirement for our project, that without them our project won't be working \n",
    "\n",
    "Non-functional requirments are the requirment that if it wasn't completed, the program will work just fine"
   ]
  },
  {
   "cell_type": "markdown",
   "id": "edf7721f",
   "metadata": {},
   "source": [
    "### Question 39 ( Bonus )\n",
    "What is my favorite ( Cartoons ) mention any right 3 of them "
   ]
  },
  {
   "cell_type": "markdown",
   "id": "d3896b9e",
   "metadata": {},
   "source": [
    "the secret garden, 3hd el asdka2, "
   ]
  },
  {
   "cell_type": "markdown",
   "id": "3c63107d",
   "metadata": {},
   "source": [
    "### Question 40\n",
    "Give an example of how to choose the right hardware architecture for a device to work in machine learning?"
   ]
  },
  {
   "cell_type": "markdown",
   "id": "76c907de",
   "metadata": {},
   "source": [
    "getting hardware with good CPU, GPU"
   ]
  },
  {
   "cell_type": "markdown",
   "id": "c2d71b03",
   "metadata": {},
   "source": [
    "الرجاء الدعاء فضلا "
   ]
  }
 ],
 "metadata": {
  "kernelspec": {
   "display_name": "Python 3 (ipykernel)",
   "language": "python",
   "name": "python3"
  },
  "language_info": {
   "codemirror_mode": {
    "name": "ipython",
    "version": 3
   },
   "file_extension": ".py",
   "mimetype": "text/x-python",
   "name": "python",
   "nbconvert_exporter": "python",
   "pygments_lexer": "ipython3",
   "version": "3.9.12"
  },
  "toc": {
   "base_numbering": 1,
   "nav_menu": {},
   "number_sections": false,
   "sideBar": true,
   "skip_h1_title": false,
   "title_cell": "Table of Contents",
   "title_sidebar": "Contents",
   "toc_cell": false,
   "toc_position": {},
   "toc_section_display": true,
   "toc_window_display": false
  },
  "varInspector": {
   "cols": {
    "lenName": 16,
    "lenType": 16,
    "lenVar": 40
   },
   "kernels_config": {
    "python": {
     "delete_cmd_postfix": "",
     "delete_cmd_prefix": "del ",
     "library": "var_list.py",
     "varRefreshCmd": "print(var_dic_list())"
    },
    "r": {
     "delete_cmd_postfix": ") ",
     "delete_cmd_prefix": "rm(",
     "library": "var_list.r",
     "varRefreshCmd": "cat(var_dic_list()) "
    }
   },
   "types_to_exclude": [
    "module",
    "function",
    "builtin_function_or_method",
    "instance",
    "_Feature"
   ],
   "window_display": false
  }
 },
 "nbformat": 4,
 "nbformat_minor": 5
}
