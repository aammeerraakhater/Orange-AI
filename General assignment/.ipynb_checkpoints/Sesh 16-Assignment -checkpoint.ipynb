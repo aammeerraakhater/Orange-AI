{
 "cells": [
  {
   "cell_type": "markdown",
   "id": "a18df779",
   "metadata": {},
   "source": [
    "# Task 1: How to load powerpi in jupyter"
   ]
  },
  {
   "cell_type": "markdown",
   "id": "e7f72ae8",
   "metadata": {},
   "source": [
    " using powerbiclient Python package. The new package lets you embed Power BI reports, dashboards, dashboard tiles, report visuals or Q&A in Jupyter notebooks easily. You’ll be able to export data from visuals in a Power BI report to the Jupyter notebook for in-depth data exploration. You can also filter the report for quick analysis or use bookmarks to apply a saved view.\n",
    "\n",
    "You can install the Power BI Client for Jupyter from PyPI<br>\n",
    "Source : https://www.kaggle.com/general/242032 "
   ]
  },
  {
   "cell_type": "markdown",
   "id": "c13348c0",
   "metadata": {},
   "source": [
    "# Task 2: data type capacity"
   ]
  },
  {
   "cell_type": "markdown",
   "id": "65cf502d",
   "metadata": {},
   "source": [
    "<table style=\"text-align:center;\" class=\"table table-bordered\">\n",
    "<tr>\n",
    "<th style=\"width:23%;text-align:center;\">Type</th>\n",
    "<th style=\"width:20%;text-align:center;\">Storage size</th>\n",
    "<th style=\"text-align:center;\">Value range</th>\n",
    "</tr>\n",
    "<tr>\n",
    "<td>char</td>\n",
    "<td>1 byte</td>\n",
    "<td>-128 to 127 or 0 to 255</td>\n",
    "</tr>\n",
    "<tr>\n",
    "<td>unsigned char</td>\n",
    "<td>1 byte</td>\n",
    "<td>0 to 255</td>\n",
    "</tr>\n",
    "<tr>\n",
    "<td>signed char</td>\n",
    "<td>1 byte</td>\n",
    "<td>-128 to 127</td>\n",
    "</tr>\n",
    "<tr>\n",
    "<td style=\"vertical-align:middle;\">int</td>\n",
    "<td style=\"vertical-align:middle;\">2 or 4 bytes</td>\n",
    "<td>-32,768 to 32,767 or -2,147,483,648 to 2,147,483,647</td>\n",
    "</tr>\n",
    "<tr>\n",
    "<td>unsigned int</td>\n",
    "<td>2 or 4 bytes</td>\n",
    "<td>0 to 65,535 or 0 to 4,294,967,295</td>\n",
    "</tr>\n",
    "<tr>\n",
    "<td>short</td>\n",
    "<td>2 bytes</td>\n",
    "<td>-32,768 to 32,767</td>\n",
    "</tr>\n",
    "<tr>\n",
    "<td>unsigned short</td>\n",
    "<td>2 bytes</td>\n",
    "<td>0 to 65,535</td>\n",
    "</tr>\n",
    "<tr>\n",
    "<td>long</td>\n",
    "<td>8 bytes or (4bytes for 32 bit OS)</td>\n",
    "<td>-9223372036854775808 to 9223372036854775807</td>\n",
    "</tr>\n",
    "<tr>\n",
    "<td>unsigned long</td>\n",
    "<td>8 bytes</td>\n",
    "<td>0 to 18446744073709551615</td>\n",
    "</tr>\n",
    "</table>"
   ]
  },
  {
   "cell_type": "markdown",
   "id": "58e8516d",
   "metadata": {},
   "source": [
    "# Task 3: how to write in a file without overridding"
   ]
  },
  {
   "cell_type": "markdown",
   "id": "e71d9ad4",
   "metadata": {},
   "source": [
    "\n",
    "\n",
    "Instead of \"w\" use \"a\" (append) mode with open function:\n",
    "\n",
    "with open(\"games.txt\", \"a\") as text_file:\n",
    "\n"
   ]
  },
  {
   "cell_type": "markdown",
   "id": "3124cb39",
   "metadata": {},
   "source": [
    "# Task 4:What is lambda expression"
   ]
  },
  {
   "cell_type": "markdown",
   "id": "dc029586",
   "metadata": {},
   "source": [
    "A lambda function is a small anonymous function. A lambda function can take any number of arguments, but can only have one expression."
   ]
  },
  {
   "cell_type": "code",
   "execution_count": 1,
   "id": "15dcda1a",
   "metadata": {},
   "outputs": [
    {
     "name": "stdout",
     "output_type": "stream",
     "text": [
      "15\n"
     ]
    }
   ],
   "source": [
    "x = lambda a : a + 10\n",
    "print(x(5)) "
   ]
  },
  {
   "cell_type": "markdown",
   "id": "14b6442d",
   "metadata": {},
   "source": [
    "# Task 5: how to combine more than two dataframe at the same time "
   ]
  },
  {
   "cell_type": "markdown",
   "id": "8bc9d62e",
   "metadata": {},
   "source": [
    "compile the list of dataframes you want to merge<br>\n",
    "data_frames = [df1, df2, df3]<br>\n"
   ]
  },
  {
   "cell_type": "code",
   "execution_count": null,
   "id": "d85b90e5",
   "metadata": {},
   "outputs": [],
   "source": [
    "df_merged = reduce(lambda  left,right: pd.merge(left,right,on=['DATE'],\n",
    "                                            how='outer'), data_frames)\n",
    "\n",
    "# if you want to fill the values that don't exist in the lines of merged dataframe simply fill with required strings as\n",
    "\n",
    "df_merged = reduce(lambda  left,right: pd.merge(left,right,on=['DATE'],\n",
    "                                            how='outer'), data_frames).fillna('void')"
   ]
  },
  {
   "cell_type": "markdown",
   "id": "973e0b0e",
   "metadata": {},
   "source": []
  }
 ],
 "metadata": {
  "kernelspec": {
   "display_name": "Python 3 (ipykernel)",
   "language": "python",
   "name": "python3"
  },
  "language_info": {
   "codemirror_mode": {
    "name": "ipython",
    "version": 3
   },
   "file_extension": ".py",
   "mimetype": "text/x-python",
   "name": "python",
   "nbconvert_exporter": "python",
   "pygments_lexer": "ipython3",
   "version": "3.10.2"
  }
 },
 "nbformat": 4,
 "nbformat_minor": 5
}
