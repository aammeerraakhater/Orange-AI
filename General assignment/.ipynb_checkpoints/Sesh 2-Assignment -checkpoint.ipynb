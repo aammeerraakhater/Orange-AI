{
 "cells": [
  {
   "cell_type": "markdown",
   "id": "b9d875a2",
   "metadata": {},
   "source": [
    "<h2>Sesh2! assignment</h2>"
   ]
  },
  {
   "cell_type": "markdown",
   "id": "3d53f47c",
   "metadata": {},
   "source": [
    "<h4>What is the components of the core of the operating system? and how is it working?</h4>"
   ]
  },
  {
   "cell_type": "markdown",
   "id": "0893bdce",
   "metadata": {},
   "source": [
    "Structure of a kernel<br>\n",
    "A kernel is always built the same way and consists of several layers:<br>\n",
    "The deepest layer is the <b> interface with hardware</b>  (processors, memory, and devices), which manages network controllers and PCI express controllers, for example.<br>\n",
    "On top of that is the <b> memory management</b>, which entails distributing RAM including the virtual main memory.\n",
    "Then comes <b> process management </b>(scheduler), which is responsible for time management and makes multitasking possible.\n",
    "The next layer contains device management.<br>\n",
    "The highest layer is the <b> file system </b>. That’s where processes are assigned to RAM or the hard drive."
   ]
  },
  {
   "cell_type": "markdown",
   "id": "8f412ac8",
   "metadata": {},
   "source": [
    "Think of the kernel in this context like a colonel: They both pass along commands. A program sends “system calls” to the kernel, for example when a file is written. The kernel, well-versed in the instruction set of the CPU, then translates the system call into machine language and forwards it to the CPU"
   ]
  },
  {
   "cell_type": "markdown",
   "id": "4d6f659b",
   "metadata": {},
   "source": [
    "Since the kernel’s lowest layer is machine oriented, it can communicate directly with the hardware, processor, and memory. The functions of the kernel vary among its five layers, from processor management to device management. The highest layer cannot access machines, and instead is responsible for interfacing with software.\n",
    "Application programs run separately from the kernel in the operating system and merely draw on its functions. Without the kernel, communication between programs and hardware wouldn’t be possible.\n",
    "Several processes can run simultaneously thanks to the multitasking kernel. But it’s generally the case that only one action can be processed by the CPU at one time – unless you’re using a multicore system. The rapid change in processes that gives the impression of multitasking is taken care of by the scheduler.\n",
    "From these components follow the four functions of the kernel:\n",
    "\n",
    "Memory management: Regulates how much memory is used in different places.\n",
    "Process management: Determines which processes the CPU can use, as well as when and how long they’re used for.\n",
    "Device driver: Intermediates between hardware and processes.\n",
    "System calls and security: Receives service requests from the processes"
   ]
  },
  {
   "cell_type": "markdown",
   "id": "16e93ccc",
   "metadata": {},
   "source": [
    "Where the kernel fits within the OS\n",
    "To put the kernel in context, you can think of a Linux machine as having 3 layers:\n",
    "\n",
    "The hardware: The physical machine—the bottom or base of the system, made up of memory (RAM) and the processor or central processing unit (CPU), as well as input/output (I/O) devices such as storage, networking, and graphics. The CPU performs computations and reads from, and writes to, memory.\n",
    "The Linux kernel: The core of the OS. (See? It’s right in the middle.) It’s software residing in memory that tells the CPU what to do.\n",
    "User processes: These are the running programs that the kernel manages. User processes are what collectively make up user space. User processes are also known as just processes. The kernel also allows these processes and servers to communicate with each other (known as inter-process communication, or IPC)."
   ]
  },
  {
   "cell_type": "markdown",
   "id": "6e5f37b9",
   "metadata": {},
   "source": [
    "<h4>open/closed programming language</h4>"
   ]
  },
  {
   "cell_type": "markdown",
   "id": "3f832cbd",
   "metadata": {},
   "source": [
    "<h6>OPEN SOURCE</h6>\n",
    "Ruby on Rails (RoR)\n",
    "This is actually a web development framework and a very popular one, to say the least. It is used for a number of different projects, and it is a favorite for developers thanks to its easy-to-use syntax based on the open-source and object-oriented Ruby language. It serves both back-end and front-end purposes. Thanks to its code structure, RoR can be used in projects that require scaling.\n",
    "\n",
    "Python\n",
    "Developed in the late 1980s, Python is an object-oriented and high-level programming language. Its syntax is very friendly, making it a great choice for projects that need to be done in a short amount of time. Because of this, it is ideal for building powerful Minimum Viable Products. It is a very popular alternative among data scientists, but it can also be used for other purposes like web development and Machine Learning, thanks to its numerous libraries. \n",
    "\n",
    "Swift\n",
    "This programming language is replacing Objective-C, the once-famous Apple language. Swift has become the standard for iOS app development, as it can help developers build powerful User Experiences in an easy way. This language is constantly evolving, bringing new innovations for developers with each iteration. It is a very stable language with a great performance. \n",
    "\n",
    "JavaScript\n",
    "This is another high-level language that has gained a lot of attention and popularity in recent years, especially because of its web-friendly capabilities. It is becoming an industry standard for many projects in different industries. Mozilla Firefox and Thunderbird are just some of the better-known software projects developed with JavaScript.\n",
    "\n",
    "Java\n",
    "This is another object-oriented programming language. It is the language on which Android is built, although it is being replaced by other languages like Rust and Kotlin. Java’s virtual machine is one of its main features, as it allows different languages to be interpreted across any device, making it an ideal cross-platform app development alternative.  \n",
    "\n",
    "Kotlin\n",
    "Like Java, Kotlin is an open-source language that runs on the Java virtual machine. It has become a popular alternative for Android app development. Unlike Java, Kotlin’s syntax helps developers save valuable time writing code. It is also object-oriented."
   ]
  },
  {
   "cell_type": "markdown",
   "id": "76db9080",
   "metadata": {},
   "source": [
    "<h6>CLOSED SOURCE</h6>\n",
    "There are very many programming languages where the source code for the compiler or interpreter is not published by the commercial compiler vendor. Examples include VBScript, c#, Matlab, Microfocus COBOL, and IBM’s mainframe, AIX, and linux compilers.\n",
    "\n",
    "There are also programming languages that are used inside a company, but the compiler is not made available outside the company, or has very limited distribution. IBM’s PL/S and its derivatives are a classic example."
   ]
  },
  {
   "cell_type": "markdown",
   "id": "9b5bf9c2",
   "metadata": {},
   "source": [
    "<h4>Types of programming language</h4>"
   ]
  },
  {
   "cell_type": "markdown",
   "id": "fb450069",
   "metadata": {},
   "source": [
    "markup language scripting language programming language <br><br>\n",
    "Low-Level Programming Languages<br>\n",
    "1. Machine Language\n",
    "2. Assembly Language\n",
    "High-Level Programming Languages<br>\n",
    "1. Procedural-Oriented Programming Language\n",
    "2. Object-Oriented Programming Language\n",
    "3. Functional Programming Language\n",
    "4. Problem-Oriented Programming Language\n",
    "5. Scripting Programming Language\n",
    "6. Artificial Intelligence Programming Language"
   ]
  },
  {
   "cell_type": "markdown",
   "id": "a84b0eda",
   "metadata": {},
   "source": [
    "<h4>This sesh tasks </h4>"
   ]
  },
  {
   "cell_type": "markdown",
   "id": "9d9de093",
   "metadata": {},
   "source": [
    "task1: Encrypted text when taking input"
   ]
  },
  {
   "cell_type": "code",
   "execution_count": 22,
   "id": "186fd8a8",
   "metadata": {},
   "outputs": [
    {
     "name": "stdout",
     "output_type": "stream",
     "text": [
      "Whats your password?········\n"
     ]
    }
   ],
   "source": [
    "import getpass\n",
    "\n",
    "password = getpass.getpass(\"Whats your password?\")"
   ]
  },
  {
   "cell_type": "markdown",
   "id": "70639074",
   "metadata": {},
   "source": [
    "task2:jupyter equivlant that runs c++"
   ]
  },
  {
   "cell_type": "markdown",
   "id": "6f44ce26",
   "metadata": {},
   "source": [
    "Xeus is a C++ implementation of the Jupyter kernel protocol. It is not a kernel itself but a library that facilitates the authoring of kernels, and other applications making use of the Jupyter kernel protocol."
   ]
  },
  {
   "cell_type": "markdown",
   "id": "7cff44b7",
   "metadata": {},
   "source": [
    "task4: do while loop(workaround) in python"
   ]
  },
  {
   "cell_type": "code",
   "execution_count": 31,
   "id": "c166b5a2",
   "metadata": {},
   "outputs": [],
   "source": [
    "# my answer not generalized \n",
    "i=0\n",
    "var=0 # insert value for var\n",
    "while i < var and i<1:\n",
    "  print(i)\n",
    "  i += 1\n",
    "# more generalized answer:\n",
    "\"\"\"\n",
    "c= true\n",
    "while x: \n",
    "    if condition:\n",
    "        do\n",
    "    else c=false:\n",
    "        do\n",
    "\"\"\""
   ]
  },
  {
   "cell_type": "markdown",
   "id": "c30f8fed",
   "metadata": {},
   "source": [
    "task 4:for loop increments by *2 instead of 2 (won't use range cause ot increment)"
   ]
  },
  {
   "cell_type": "code",
   "execution_count": 1,
   "id": "835afdbb",
   "metadata": {},
   "outputs": [
    {
     "name": "stdout",
     "output_type": "stream",
     "text": [
      "2\n",
      "4\n",
      "8\n",
      "16\n",
      "32\n",
      "64\n",
      "128\n",
      "256\n",
      "512\n",
      "1024\n"
     ]
    }
   ],
   "source": [
    "#:3 ??!!\n",
    "for x in (2**p for p in range(1,11)):\n",
    "    print(x)"
   ]
  },
  {
   "cell_type": "markdown",
   "id": "37130bec",
   "metadata": {},
   "source": [
    "task 5:infinite for loop"
   ]
  },
  {
   "cell_type": "code",
   "execution_count": 4,
   "id": "722475e3",
   "metadata": {},
   "outputs": [],
   "source": [
    "from itertools import repeat\n",
    "\n",
    "for _ in repeat(None):\n",
    "    print(\":)\")"
   ]
  },
  {
   "cell_type": "markdown",
   "id": "fa0cc3e2",
   "metadata": {},
   "source": [
    "task5: Dependency injection "
   ]
  },
  {
   "cell_type": "markdown",
   "id": "a8ab481d",
   "metadata": {},
   "source": [
    "Dependency Injection is the ability of an object to supply dependencies of another object.\n",
    "Dependency in programming is an approach where a class uses specific functionalities of another class. So, for example, If you consider two classes A and B, and say that class A uses functionalities of class B, then its implied that class A has a dependency of class B. <br>\n",
    "So, if I have to now define Dependency Injection for you, then the process of creating an object for some other class and let the class directly using the dependency is called Dependency Injection. It mainly has three classes involved:\n",
    "\n",
    "Client Class: This is the dependent class and is dependent on the Service class.\n",
    "\n",
    "Service Class: This class provides a service to the client class.\n",
    "\n",
    "Injector Class: This class is responsible for injecting the service class object into the client class"
   ]
  },
  {
   "cell_type": "markdown",
   "id": "effd8287",
   "metadata": {},
   "source": [
    "Constructor Injection: In this type of injection, the injector supplies dependency through the client class constructor.\n",
    "\n",
    "Setter Injection / Property Injection: In this type of injection, the injector method injects the dependency to the setter method exposed by the client.\n",
    "\n",
    "Interface Injection: In this type of injection, the injector uses Interface to provide dependency to the client class. The clients must implement an interface that will expose a setter method which accepts the dependency."
   ]
  },
  {
   "cell_type": "markdown",
   "id": "7689d34e",
   "metadata": {},
   "source": [
    "task 7:clean code"
   ]
  },
  {
   "cell_type": "markdown",
   "id": "7e9cc438",
   "metadata": {},
   "source": [
    "Meaningul name \n",
    "Functions\n",
    "comments\n",
    "Formatting\n",
    "objects and data structure\n",
    "Error handling\n",
    "Boundaries\n",
    "Unit test classes\n",
    "Systems \n",
    "Emergence\n",
    "concurrency\n",
    "successive refinement \n",
    "Refactoring"
   ]
  },
  {
   "cell_type": "markdown",
   "id": "fd09e015",
   "metadata": {},
   "source": [
    "task 8:code refactoring"
   ]
  },
  {
   "cell_type": "markdown",
   "id": "13141752",
   "metadata": {},
   "source": [
    "Code refactoring in software engineering is the process of restructuring software source code with the purpose to improve its internal structure and non-functional features. At the same time, its external behavior remains unchanged.\n",
    "\n",
    "The main purpose of code refactoring is pretty clear — to make the code clean, neat, more efficient and maintainable. This process means a kind of software upgrade necessary to improve several non-functional features: maintainability, performance, security, and scalability."
   ]
  },
  {
   "cell_type": "markdown",
   "id": "21ed5cdc",
   "metadata": {},
   "source": [
    "### Task 9 : why is recursive code faster than iterative"
   ]
  },
  {
   "cell_type": "markdown",
   "id": "cdcc10da",
   "metadata": {},
   "source": [
    "-memoizition<br>\n",
    "-multithreads\n",
    "-parallel programming\n"
   ]
  },
  {
   "cell_type": "markdown",
   "id": "77d1cb3c",
   "metadata": {},
   "source": [
    "## Task 10: Threads"
   ]
  },
  {
   "cell_type": "markdown",
   "id": "93882d98",
   "metadata": {},
   "source": [
    "What is a Thread?\n",
    "A thread is a path of execution within a process. A process can contain multiple threads.\n",
    "Why Multithreading?\n",
    "A thread is also known as lightweight process. The idea is to achieve parallelism by dividing a process into multiple threads. For example, in a browser, multiple tabs can be different threads. MS Word uses multiple threads: one thread to format the text, another thread to process inputs, etc. More advantages of multithreading are discussed below\n",
    "Process vs Thread?\n",
    "The primary difference is that threads within the same process run in a shared memory space, while processes run in separate memory spaces.\n",
    "Threads are not independent of one another like processes are, and as a result threads share with other threads their code section, data section, and OS resources (like open files and signals). But, like process, a thread has its own program counter (PC), register set, and stack space.\n",
    "Advantages of Thread over Process\n",
    "1. Responsiveness: If the process is divided into multiple threads, if one thread completes its execution, then its output can be immediately returned.\n",
    "\n",
    "2. Faster context switch: Context switch time between threads is lower compared to process context switch. Process context switching requires more overhead from the CPU.\n",
    "\n",
    "3. Effective utilization of multiprocessor system: If we have multiple threads in a single process, then we can schedule multiple threads on multiple processor. This will make process execution faster.\n",
    "\n",
    "4. Resource sharing: Resources like code, data, and files can be shared among all threads within a process.\n",
    "Note: stack and registers can’t be shared among the threads. Each thread has its own stack and registers.\n",
    "\n",
    "5. Communication: Communication between multiple threads is easier, as the threads shares common address space. while in process we have to follow some specific communication technique for communication between two process.\n",
    "\n",
    "6. Enhanced throughput of the system: If a process is divided into multiple threads, and each thread function is considered as one job, then the number of jobs completed per unit of time is increased, thus increasing the throughput of the system.\n",
    "Types of Threads\n",
    "There are two types of threads.\n",
    "User Level Thread\n",
    "Kernel Level Thread"
   ]
  },
  {
   "cell_type": "code",
   "execution_count": 7,
   "id": "cc654cb9",
   "metadata": {},
   "outputs": [],
   "source": [
    "l=[1,1,2,3]"
   ]
  },
  {
   "cell_type": "code",
   "execution_count": 8,
   "id": "f4662fb0",
   "metadata": {},
   "outputs": [
    {
     "data": {
      "text/plain": [
       "[1, 1, 2, 3]"
      ]
     },
     "execution_count": 8,
     "metadata": {},
     "output_type": "execute_result"
    }
   ],
   "source": [
    "l"
   ]
  },
  {
   "cell_type": "code",
   "execution_count": 9,
   "id": "de7f3707",
   "metadata": {},
   "outputs": [],
   "source": [
    "stre=type(l)"
   ]
  },
  {
   "cell_type": "code",
   "execution_count": 10,
   "id": "702c9fa9",
   "metadata": {},
   "outputs": [
    {
     "data": {
      "text/plain": [
       "list"
      ]
     },
     "execution_count": 10,
     "metadata": {},
     "output_type": "execute_result"
    }
   ],
   "source": [
    "stre"
   ]
  },
  {
   "cell_type": "code",
   "execution_count": 16,
   "id": "e9439172",
   "metadata": {},
   "outputs": [
    {
     "name": "stdout",
     "output_type": "stream",
     "text": [
      "Hola <class 'list'>'s'\n"
     ]
    }
   ],
   "source": [
    "print(\"Hola {}'s'\".format(stre))"
   ]
  },
  {
   "cell_type": "code",
   "execution_count": 8,
   "id": "7aeec90c",
   "metadata": {},
   "outputs": [
    {
     "data": {
      "text/plain": [
       "[3, 2, 1, 1]"
      ]
     },
     "execution_count": 8,
     "metadata": {},
     "output_type": "execute_result"
    }
   ],
   "source": [
    "l[::-1]"
   ]
  },
  {
   "cell_type": "code",
   "execution_count": null,
   "id": "6b0da250",
   "metadata": {},
   "outputs": [],
   "source": []
  }
 ],
 "metadata": {
  "kernelspec": {
   "display_name": "Python 3 (ipykernel)",
   "language": "python",
   "name": "python3"
  },
  "language_info": {
   "codemirror_mode": {
    "name": "ipython",
    "version": 3
   },
   "file_extension": ".py",
   "mimetype": "text/x-python",
   "name": "python",
   "nbconvert_exporter": "python",
   "pygments_lexer": "ipython3",
   "version": "3.10.2"
  }
 },
 "nbformat": 4,
 "nbformat_minor": 5
}
