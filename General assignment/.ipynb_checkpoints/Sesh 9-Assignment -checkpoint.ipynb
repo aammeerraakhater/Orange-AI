{
 "cells": [
  {
   "cell_type": "markdown",
   "id": "6cab07a8",
   "metadata": {},
   "source": [
    "### Task 1: Difference between IS-A relationship & HAS-A relationship"
   ]
  },
  {
   "cell_type": "markdown",
   "id": "d9a314e7",
   "metadata": {},
   "source": [
    "Is-A relationship: Whenever one class inherits another class.IS-A Relationship is wholly related to Inheritance. For example – a kiwi is a fruit; a bulb is a device.<br>\n",
    "<pre>Advantage of IS-A relationship \n",
    "\n",
    "    Code Reusability.\n",
    "    Reduce redundancy.\n",
    "    </pre>\n",
    "Has-A relationship: Whenever an instance of one class is used in another class."
   ]
  },
  {
   "cell_type": "markdown",
   "id": "face081e",
   "metadata": {},
   "source": [
    "### Task 2: what's super harvard architecture"
   ]
  },
  {
   "cell_type": "markdown",
   "id": "549372ef",
   "metadata": {},
   "source": [
    "### Task 3: unstructured DB examples"
   ]
  },
  {
   "cell_type": "markdown",
   "id": "c8f28017",
   "metadata": {},
   "source": [
    "### Task 4: Redo task 6 from the last session (diff. Between hadoop, spark , etc.)"
   ]
  },
  {
   "cell_type": "markdown",
   "id": "f483ecfb",
   "metadata": {},
   "source": [
    "### Task 5:what's dockerization, containerizations , kubernetes, jinkins."
   ]
  },
  {
   "cell_type": "markdown",
   "id": "91c8ef01",
   "metadata": {},
   "source": [
    "### Task 6: read a research paper about dataOps and suggest a way to develop this concept."
   ]
  },
  {
   "cell_type": "markdown",
   "id": "b251b300",
   "metadata": {},
   "source": [
    "### Task 7: what's better pip or conda"
   ]
  },
  {
   "cell_type": "markdown",
   "id": "9ac7ada2",
   "metadata": {},
   "source": [
    "### Task 8: make a regular expression for a manually entered-data of pattern : name , mail, phone number"
   ]
  }
 ],
 "metadata": {
  "kernelspec": {
   "display_name": "Python 3 (ipykernel)",
   "language": "python",
   "name": "python3"
  },
  "language_info": {
   "codemirror_mode": {
    "name": "ipython",
    "version": 3
   },
   "file_extension": ".py",
   "mimetype": "text/x-python",
   "name": "python",
   "nbconvert_exporter": "python",
   "pygments_lexer": "ipython3",
   "version": "3.10.2"
  }
 },
 "nbformat": 4,
 "nbformat_minor": 5
}
