{
 "cells": [
  {
   "cell_type": "markdown",
   "id": "fb3f865e",
   "metadata": {},
   "source": [
    "### Task1: source controller instead of github "
   ]
  },
  {
   "cell_type": "markdown",
   "id": "356b7ece",
   "metadata": {},
   "source": [
    "<pre>1- bitbucket \n",
    "2- Gitlab\n",
    "3- FogBugs kiln/devhub\n",
    "4- Beanstalk \n",
    "5- sourceForge\n",
    "6- Apache allura\n",
    "7- cloud source by google \n",
    "8- AWS codecommit\n",
    "9- git kraken "
   ]
  },
  {
   "attachments": {},
   "cell_type": "markdown",
   "id": "4d020e97",
   "metadata": {},
   "source": [
    "<b>what is source controller?</b> source controller is a way to control changes to files and directories, so that you can keep a record of changes and recall specific versions of a file in the event you'd like to back up to an earlier time "
   ]
  },
  {
   "cell_type": "markdown",
   "id": "234acb06",
   "metadata": {},
   "source": [
    "### Task2: Apache maven "
   ]
  },
  {
   "cell_type": "markdown",
   "id": "accb36c9",
   "metadata": {},
   "source": [
    "What is Maven and why it is used?\n",
    "Maven is a popular open-source build tool developed by the Apache Group to build, publish, and deploy several projects at once for better project management. The tool provides allows developers to build and document the lifecycle framework  \n",
    "\n",
    "Maven is a build automation tool used primarily for Java projects. Maven can also be used to build and manage projects written in C#, Ruby, Scala, and other languages. The Maven project is hosted by the Apache Software Foundation, where it was formerly part of the Jakarta Project.\n",
    "\n"
   ]
  },
  {
   "cell_type": "code",
   "execution_count": null,
   "id": "cbde4167",
   "metadata": {},
   "outputs": [],
   "source": []
  }
 ],
 "metadata": {
  "kernelspec": {
   "display_name": "Python 3 (ipykernel)",
   "language": "python",
   "name": "python3"
  },
  "language_info": {
   "codemirror_mode": {
    "name": "ipython",
    "version": 3
   },
   "file_extension": ".py",
   "mimetype": "text/x-python",
   "name": "python",
   "nbconvert_exporter": "python",
   "pygments_lexer": "ipython3",
   "version": "3.10.2"
  }
 },
 "nbformat": 4,
 "nbformat_minor": 5
}
