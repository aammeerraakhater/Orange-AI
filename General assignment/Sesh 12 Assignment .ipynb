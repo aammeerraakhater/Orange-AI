{
 "cells": [
  {
   "cell_type": "markdown",
   "id": "59fe408c",
   "metadata": {},
   "source": [
    "### Task1 ; what is pca"
   ]
  },
  {
   "cell_type": "markdown",
   "id": "d3e9b4af",
   "metadata": {},
   "source": [
    "principal component analysis (PCA).\n",
    "\n",
    "How Do You Do a Principal Component Analysis?\n",
    "\n",
    "    Standardize the range of continuous initial variables\n",
    "    Compute the covariance matrix to identify correlations\n",
    "    Compute the eigenvectors and eigenvalues of the covariance matrix to identify the principal components\n",
    "    Create a feature vector to decide which principal components to keep\n",
    "    Recast the data along the principal components axes"
   ]
  },
  {
   "cell_type": "markdown",
   "id": "1bb6d435",
   "metadata": {},
   "source": [
    "is a dimensionality-reduction method that is often used to reduce the dimensionality of large data sets, by transforming a large set of variables into a smaller one that still contains most of the information in the large set."
   ]
  },
  {
   "cell_type": "markdown",
   "id": "33c603fd",
   "metadata": {},
   "source": [
    "Reducing the number of variables of a data set naturally comes at the expense of accuracy, but the trick in dimensionality reduction is to trade a little accuracy for simplicity. Because smaller data sets are easier to explore and visualize and make analyzing data much easier and faster for machine learning algorithms without extraneous variables to process."
   ]
  },
  {
   "cell_type": "code",
   "execution_count": null,
   "id": "4ba7f2ac",
   "metadata": {},
   "outputs": [],
   "source": []
  }
 ],
 "metadata": {
  "kernelspec": {
   "display_name": "Python 3 (ipykernel)",
   "language": "python",
   "name": "python3"
  },
  "language_info": {
   "codemirror_mode": {
    "name": "ipython",
    "version": 3
   },
   "file_extension": ".py",
   "mimetype": "text/x-python",
   "name": "python",
   "nbconvert_exporter": "python",
   "pygments_lexer": "ipython3",
   "version": "3.10.2"
  }
 },
 "nbformat": 4,
 "nbformat_minor": 5
}
