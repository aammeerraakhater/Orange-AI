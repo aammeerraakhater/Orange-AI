{
 "cells": [
  {
   "cell_type": "markdown",
   "id": "a6356112",
   "metadata": {},
   "source": [
    "## Task 1: Why do i need normal distribution"
   ]
  },
  {
   "cell_type": "markdown",
   "id": "c0e87f7f",
   "metadata": {},
   "source": [
    "One reason the normal distribution is important is that many psychological and educational variables are distributed approximately normally. although the distributions are only approximately normal, they are usually quite close.\n",
    "\n",
    "A second reasonis that it is easy for mathematical statisticians to work with. This means that many kinds of statistical tests can be derived for normal distributions. Almost all statistical tests discussed in this text assume normal distributions. Fortunately, these tests work very well even if the distribution is only approximately normally distributed. Some tests work well even with very wide deviations from normality.\n",
    "\n",
    "Finally, if the mean and standard deviation of a normal distribution are known, it is easy to convert back and forth from raw scores to percentiles"
   ]
  },
  {
   "cell_type": "markdown",
   "id": "8a64a305",
   "metadata": {},
   "source": [
    "## Task 2: what is central limit theory"
   ]
  },
  {
   "cell_type": "markdown",
   "id": "4a94aeea",
   "metadata": {},
   "source": [
    "central limit theory: it means that means are normally distributed \n",
    "<b>From any data distribution to normal distribution</b>\n",
    "\n",
    "Even though the means were calculated using data from a uniform distribution, the means themselves are not uniformally distributed instead the means are normally distributed\n",
    "\n",
    "To change from any data distribution to normal distribution:\n",
    "1- collect means 2 draw thier histogram\n",
    "\n",
    "source:https://www.youtube.com/watch?v=YAlJCEDH2uY"
   ]
  },
  {
   "cell_type": "markdown",
   "id": "a36e7bfb",
   "metadata": {},
   "source": [
    "## Task 3: How can you use AI without data and training "
   ]
  },
  {
   "cell_type": "markdown",
   "id": "cf9be26f",
   "metadata": {},
   "source": [
    "-Rienforcement<br>\n",
    "-KNN<br>\n",
    "-Unsupervised",
    "Unsupervised learning uses machine learning algorithms to analyze and cluster (meaning “grouping”) unlabeled data sets. These algorithms discover hidden patterns in data without the need for human intervention, and this is why the case is “unsupervised”. So, Unsupervised Learning models work on their own to discover the “innate” structure of unlabeled data. This means a simple thing: there is no training on the Unsupervised Learning case. In this case, the algorithm works on its own on finding how to group the (unlabeled) data, so the human doesn't train the model."
   ]
  },
  {
   "cell_type": "markdown",
   "id": "b9633b73",
   "metadata": {},
   "source": [
    "## Task 4:Algorithms that assume non-linearity "
   ]
  },
  {
   "cell_type": "markdown",
   "id": "dd7437a7",
   "metadata": {},
   "source": [
    "Five nonlinear algorithms: Classification and Regression Trees, Naive Bayes, K-Nearest Neighbors, Learning Vector Quantization and Support Vector Machines.\n",
    "\n",
    "Three linear machine learning algorithms: Linear Regression, Logistic Regression and Linear Discriminant Analysis."
   ]
  },
  {
   "cell_type": "markdown",
   "id": "e68f452e",
   "metadata": {},
   "source": [
    "## Task 5: Library in python that imports every other lib"
   ]
  },
  {
   "cell_type": "markdown",
   "id": "7442752e",
   "metadata": {},
   "source": [
    "Pyforest \n",
    "source and way to install:\n",
    "    https://towardsdatascience.com/import-all-python-libraries-in-one-line-of-code-86e54f6f0108"
   ]
  },
  {
   "cell_type": "code",
   "execution_count": null,
   "id": "ba26eedc",
   "metadata": {},
   "outputs": [],
   "source": []
  }
 ],
 "metadata": {
  "kernelspec": {
   "display_name": "Python 3 (ipykernel)",
   "language": "python",
   "name": "python3"
  },
  "language_info": {
   "codemirror_mode": {
    "name": "ipython",
    "version": 3
   },
   "file_extension": ".py",
   "mimetype": "text/x-python",
   "name": "python",
   "nbconvert_exporter": "python",
   "pygments_lexer": "ipython3",
   "version": "3.10.2"
  }
 },
 "nbformat": 4,
 "nbformat_minor": 5
}
