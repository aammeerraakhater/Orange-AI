{
 "cells": [
  {
   "cell_type": "markdown",
   "id": "411d7a69",
   "metadata": {},
   "source": [
    "## Task 1: Algorithms that generate new things from other data "
   ]
  },
  {
   "cell_type": "markdown",
   "id": "6d9df9dc",
   "metadata": {},
   "source": []
  },
  {
   "cell_type": "markdown",
   "id": "85742d2e",
   "metadata": {},
   "source": [
    "## Task 2: Non linear algorithms "
   ]
  },
  {
   "cell_type": "markdown",
   "id": "b0fed312",
   "metadata": {},
   "source": [
    " neural networks and support vector machines with nonlinear kernels"
   ]
  },
  {
   "cell_type": "markdown",
   "id": "04f29553",
   "metadata": {},
   "source": [
    "## Task 3:Numpy video's osama el zero"
   ]
  }
 ],
 "metadata": {
  "kernelspec": {
   "display_name": "Python 3 (ipykernel)",
   "language": "python",
   "name": "python3"
  },
  "language_info": {
   "codemirror_mode": {
    "name": "ipython",
    "version": 3
   },
   "file_extension": ".py",
   "mimetype": "text/x-python",
   "name": "python",
   "nbconvert_exporter": "python",
   "pygments_lexer": "ipython3",
   "version": "3.10.2"
  }
 },
 "nbformat": 4,
 "nbformat_minor": 5
}
