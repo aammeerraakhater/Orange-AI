{
 "cells": [
  {
   "cell_type": "markdown",
   "id": "6cab07a8",
   "metadata": {},
   "source": [
    "### Task 1: Difference between IS-A relationship & HAS-A relationship"
   ]
  },
  {
   "cell_type": "markdown",
   "id": "bdde8d68",
   "metadata": {},
   "source": [
    "Is-A relationship: Whenever one class inherits another class.IS-A Relationship is wholly related to Inheritance. For example – a kiwi is a fruit; a bulb is a device.<br>\n",
    "<pre>Advantage of IS-A relationship \n",
    "\n",
    "    Code Reusability.\n",
    "    Reduce redundancy.\n",
    "    </pre>\n",
    "Has-A relationship: Whenever an instance of one class is used in another class."
   ]
  },
  {
   "cell_type": "markdown",
   "id": "0b7e637a",
   "metadata": {},
   "source": [
    "<pre>\n",
    "\n",
    "\n",
    "An IS-A relationship is inheritance. The classes which inherit are known as sub classes or child classes. On the other hand, HAS-A relationship is composition.\n",
    "\n",
    "In OOP, IS-A relationship is completely inheritance. This means, that the child class is a type of parent class. For example, an apple is a fruit. So you will extend fruit to get apple.\n",
    "\n",
    "class Apple extends Fruit {\n",
    "\n",
    "}\n",
    "\n",
    "On the other hand, composition means creating instances which have references to other objects. For example, a room has a table. So you will create a class room and then in that class create an instance of type table.\n",
    "\n",
    "class Room {\n",
    "\n",
    "    Table table = new Table();\n",
    "\n",
    "}\n",
    "\n",
    "A HAS-A relationship is dynamic (run time) binding while inheritance is a static (compile time) binding. If you just want to reuse the code and you know that the two are not of same kind use composition. For example, you cannot inherit an oven from a kitchen. A kitchen HAS-A oven. When you feel there is a natural relationship like Apple is a Fruit use inheritance.\n",
    "</pre>"
   ]
  },
  {
   "cell_type": "markdown",
   "id": "face081e",
   "metadata": {},
   "source": [
    "### Task 2: what's super harvard architecture"
   ]
  },
  {
   "cell_type": "markdown",
   "id": "b42d7d0b",
   "metadata": {},
   "source": [
    "The Super Harvard Architecture Single-Chip Computer (SHARC) is a high performance floating-point and fixed-point DSP from Analog Devices. SHARC is used in a variety of signal processing applications ranging from single-CPU guided artillery shells to 1000-CPU over-the-horizon radar processing computers. The original design dates to about January 1994.\n",
    "\n",
    "SHARC processors are typically intended to have a good number of serial links to other SHARC processors nearby, to be used as a low-cost alternative to SMP. \n",
    "\n",
    "Super Harvard architecture that balances exceptional core and memory performance with outstanding I/O throughput capabilities. This \"Super\" Harvard architecture extends the original concepts of separate program and data memory busses by adding an I/O processor with its associated dedicated busses. In addition to satisfying the demands of the most computationally intensive, real-time signal-processing applications, SHARC processors integrate large memory arrays and application-specific peripherals designed to simplify product development and reduce time to market."
   ]
  },
  {
   "cell_type": "markdown",
   "id": "549372ef",
   "metadata": {},
   "source": [
    "### Task 3: unstructured DB examples"
   ]
  },
  {
   "cell_type": "markdown",
   "id": "9d8342e0",
   "metadata": {},
   "source": [
    "BangDB\n",
    "Basically you need to store structured/semi-structured/unstructured data in a database, because you want to perform some queries on it. If the purpose is just the archival of data, then probably you can just use a distributed file system like HDFS to store the data. Here are some choices:\n",
    "\n",
    "Structured data and you want to do complex queries which requires table joins, you don’t know about apriori, use RDBMS like Mysql, Postgresql etc.\n",
    "\n",
    "\n",
    "Structured data and no complex queries, use key-value NoSQL database, such as Redis, Voldemort etc.\n",
    "\n",
    "Semi-structured data, and not too complex queries, use column-oriented database, such as HBase, Cassandra etc, or document oriented databases such as MongoDB or CouchDB.\n",
    "\n",
    "Highly connected data, you can use a graph database such as Neo4J etc.\n",
    "\n",
    "Unstructured text data, and you want to query for words in the document, use Elasticsearch or Solr.\n",
    "\n",
    "If it is a time-series data, and you want to visualize it, you can use InfluxDB or OpenTSDB.\n"
   ]
  },
  {
   "cell_type": "markdown",
   "id": "c8f28017",
   "metadata": {},
   "source": [
    "### Task 4: Redo task 6 from the last session (diff. Between hadoop, spark , etc.)"
   ]
  },
  {
   "cell_type": "markdown",
   "id": "f483ecfb",
   "metadata": {},
   "source": [
    "### Task 5:what's dockerization, containerizations , kubernetes, jinkins."
   ]
  },
  {
   "cell_type": "markdown",
   "id": "cc1b6934",
   "metadata": {},
   "source": [
    "What Is a Dockerizing\n",
    "\n",
    "Dockerizing is the process of packing, deploying, and running applications using Docker containers. Docker is an open source tool that ships your application with all the necessary functionalities as one package. You can use Docker to pack your application with everything you need to run the application (such as libraries) and ship it as one package - a container. Containers are created from images that specify their precise contents. Dockerizing is a big hit nowadays. All the big names use it - Google, VMware, or Amazon support it.\n",
    "\n",
    "There are two parts of Docker:\n",
    "\n",
    "    The Docker Engine - a portable packaging tool\n",
    "    The Docker Hub - cloud service for sharing applications\n",
    "\n",
    "The Docker container allows another user to quickly recreate the computer environment. The container provides operating virtualization by abstracting the “user space”. This technology ensures that your colleagues are developing or testing the product using the same environment as you which results in fewer errors.\n",
    "\n",
    "The Docker container technology was launched in 2013 by a startup Docker, Inc based in San Francisco, California. Docker, Inc became a “unicorn” company after a $95 million fundraising round in April 2015 (unicorn companies are privately held startups valued at over $1 billion).\n",
    "\n",
    "Docker\n",
    "Source: Docker\n",
    "Why You Might Want to Employ Dockerizing\n",
    "\n",
    "Docker is:\n",
    "\n",
    "    Easy to use Docker simplified the way we deploy applications. You do not distribute the software as source code - you send the binary image of a part of your disk. It is easy to use for developers, system admins, architects, and others. It runs the application unmodified on any cloud. Docker also lets you use the Docker Hub, which contains tens of thousands of public images ready to use.\n",
    "\n",
    "    Fast\n",
    "    Docker containers are just sandboxed environments that run on the kernel. You can create and run the containers in seconds.\n",
    "\n",
    "    Able to create a reproducible environment\n",
    "    Docker creates a consistent work environment that is necessary for recreating applications and their functionalities. Wrapping everything into containers means that the application you build runs on other devices without friction.\n",
    "\n",
    "Problems the Dockerizing Solves\n",
    "\n",
    "    Increased cost\n",
    "    Poor code quality\n",
    "    Meaningless work\n",
    "    Long team onboarding\n"
   ]
  },
  {
   "cell_type": "markdown",
   "id": "b3aa0fee",
   "metadata": {},
   "source": []
  },
  {
   "cell_type": "markdown",
   "id": "c87308f6",
   "metadata": {},
   "source": []
  },
  {
   "cell_type": "markdown",
   "id": "91c8ef01",
   "metadata": {},
   "source": [
    "### Task 6: read a research paper about dataOps and suggest a way to develop this concept."
   ]
  },
  {
   "cell_type": "markdown",
   "id": "b251b300",
   "metadata": {},
   "source": [
    "### Task 7: what's better pip or conda"
   ]
  },
  {
   "cell_type": "markdown",
   "id": "9ac7ada2",
   "metadata": {},
   "source": [
    "### Task 8: make a regular expression for a manually entered-data of pattern : name , mail, phone number"
   ]
  },
  {
   "cell_type": "markdown",
   "id": "22d7ad16",
   "metadata": {},
   "source": [
    "Sourse"
   ]
  },
  {
   "cell_type": "markdown",
   "id": "5c8844a1",
   "metadata": {},
   "source": [
    "https://developerexperience.io/practices/dockerizing\n",
    "\n",
    "https://www.quora.com/What-is-the-best-NoSQL-database-to-store-unstructured-data"
   ]
  }
 ],
 "metadata": {
  "kernelspec": {
   "display_name": "Python 3 (ipykernel)",
   "language": "python",
   "name": "python3"
  },
  "language_info": {
   "codemirror_mode": {
    "name": "ipython",
    "version": 3
   },
   "file_extension": ".py",
   "mimetype": "text/x-python",
   "name": "python",
   "nbconvert_exporter": "python",
   "pygments_lexer": "ipython3",
   "version": "3.10.2"
  }
 },
 "nbformat": 4,
 "nbformat_minor": 5
}
