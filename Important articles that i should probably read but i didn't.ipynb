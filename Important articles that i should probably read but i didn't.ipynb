{
 "cells": [
  {
   "cell_type": "markdown",
   "id": "b929b4af",
   "metadata": {},
   "source": [
    "XX:haven't read OO:should re-read"
   ]
  },
  {
   "cell_type": "markdown",
   "id": "35ef5089",
   "metadata": {},
   "source": [
    "XX:https://medium.com/fintechexplained/how-to-fine-tune-your-machine-learning-models-to-improve-forecasting-accuracy-e18e67e58898"
   ]
  },
  {
   "cell_type": "markdown",
   "id": "bd98dfe7",
   "metadata": {},
   "source": [
    "xx:https://becominghuman.ai/learning-rate-and-golf-87c8d4697e31"
   ]
  },
  {
   "cell_type": "markdown",
   "id": "72dfbbd3",
   "metadata": {},
   "source": [
    "XX:https://towardsdatascience.com/deep-learning-understand-the-inception-module-56146866e652"
   ]
  }
 ],
 "metadata": {
  "kernelspec": {
   "display_name": "Python 3 (ipykernel)",
   "language": "python",
   "name": "python3"
  },
  "language_info": {
   "codemirror_mode": {
    "name": "ipython",
    "version": 3
   },
   "file_extension": ".py",
   "mimetype": "text/x-python",
   "name": "python",
   "nbconvert_exporter": "python",
   "pygments_lexer": "ipython3",
   "version": "3.10.2"
  }
 },
 "nbformat": 4,
 "nbformat_minor": 5
}
