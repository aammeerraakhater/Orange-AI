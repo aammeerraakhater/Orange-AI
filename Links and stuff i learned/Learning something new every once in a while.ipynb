{
 "cells": [
  {
   "cell_type": "markdown",
   "id": "6a11fc86",
   "metadata": {},
   "source": [
    "<pre>\n",
    "to merge:\n",
    "git merge -m \"your msg here\"\n",
    "</pre>"
   ]
  },
  {
   "cell_type": "code",
   "execution_count": null,
   "id": "925f8d4c",
   "metadata": {},
   "outputs": [],
   "source": []
  }
 ],
 "metadata": {
  "kernelspec": {
   "display_name": "Python 3 (ipykernel)",
   "language": "python",
   "name": "python3"
  },
  "language_info": {
   "codemirror_mode": {
    "name": "ipython",
    "version": 3
   },
   "file_extension": ".py",
   "mimetype": "text/x-python",
   "name": "python",
   "nbconvert_exporter": "python",
   "pygments_lexer": "ipython3",
   "version": "3.10.2"
  }
 },
 "nbformat": 4,
 "nbformat_minor": 5
}
