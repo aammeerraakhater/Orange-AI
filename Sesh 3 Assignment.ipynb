{
 "cells": [
  {
   "cell_type": "code",
   "execution_count": null,
   "id": "87a601a4",
   "metadata": {},
   "outputs": [],
   "source": [
    "<h3></h3>"
   ]
  },
  {
   "cell_type": "markdown",
   "id": "960b29f5",
   "metadata": {},
   "source": [
    "<h3>task1: what is miniconda and what is the difference between it and conda</h3>"
   ]
  },
  {
   "cell_type": "markdown",
   "id": "dc1d8220",
   "metadata": {},
   "source": [
    "Miniconda is a free minimal installer for conda. It is a small, bootstrap version of Anaconda that includes only conda, Python, the packages they depend on, and a small number of other useful packages, including pip, zlib and a few others. Use the conda install command to install 720+ additional conda packages from the Anaconda repository. Miniconda can be understood as a bootstrap, smaller version of Anaconda with just the Conda package management system and Python. After Miniconda distribution has been installed, you will have to install every package you require individually, using the Conda command.However, both Miniconda and Anaconda provide Conda as the default package manager."
   ]
  },
  {
   "cell_type": "markdown",
   "id": "39f8a614",
   "metadata": {},
   "source": [
    "<h3>Task2:Not clean code -> clean code</h3>"
   ]
  },
  {
   "cell_type": "code",
   "execution_count": null,
   "id": "58777918",
   "metadata": {},
   "outputs": [],
   "source": [
    "https://github.com/ryanmcdermott/clean-code-javascript"
   ]
  },
  {
   "cell_type": "markdown",
   "id": "c81b44fd",
   "metadata": {},
   "source": [
    "<h3>Task3: what is the framework? advantages/disadvantages+examples</h3>"
   ]
  },
  {
   "cell_type": "markdown",
   "id": "f807911d",
   "metadata": {},
   "source": [
    "\n",
    "A framework is a structure that you can build software on. It serves as a foundation, so you're not starting entirely from scratch. Frameworks are typically associated with a specific programming language and are suited to different types of tasks.\n",
    "<br>\n",
    "advantages:\n",
    "\n",
    "Using frameworks saves time and reduces the risk of errors. You don't need to write everything from the ground up, so there's less chance of introducing errors. Plus, frameworks have already been tested, so there's less to worry about. Other advantages include:\n",
    "\n",
    "More secure code<br>\n",
    "Simpler testing and debugging<br>\n",
    "Avoiding duplicate code<br>\n",
    "Clean and easily adaptable code<br>\n",
    "Able to focus on writing code specific to the project<br>\n",
    "Can be extended<br>\n",
    "<h5>Web application frameworks</h5>\n",
    "<br>\n",
    "AngularJS is a front-end JavaScript framework.<br>\n",
    "Django is an open-source web development framework supported by the Django Software Foundation. It's written in Python, a popular programming language, and is designed to encourage \"rapid development and clean, pragmatic design.\" It's fast, secure, and scalable.<br>\n",
    "Rails is also an open-source framework. It's written in the Ruby programming language, <br>\n",
    "<h5>Mobile development frameworks</h5>\n",
    "<br>\n",
    "Flutter is Google's open-source framework. It supports iOS and Android and has fully customizable widgets.<br>\n",
    "React Native was developed by Facebook. It's open-source, cross-platform, and written in JavaScript. It's used in many popular apps, including Discord, Instagram, and Shopify.<br>"
   ]
  },
  {
   "cell_type": "markdown",
   "id": "317f8be4",
   "metadata": {},
   "source": [
    "cons:\n",
    "You learn the framework, not the language\n",
    "I believe this to be the major problem. If you’re using a framework and you know very little about the language behind it, you will learn the framework and not the language itself. The way you code jQuery is different from the way you code javascript. Simple put, if you know jQuery, it doesn’t mean you know javascript.\n",
    "\n",
    "Limitation\n",
    "The framework’s core behaviour can’t be modified, meaning that when you use a framework, you are forced to respect its limits and work the way it is required. Make sure you choose a framework that suits your needs.\n",
    "\n",
    "Code is public\n",
    "Since the framework is available to everyone, it is also available to people with bad intentions. It can be studied in order to know how things work and to find flaws that can be used against you."
   ]
  },
  {
   "cell_type": "markdown",
   "id": "85bf3a39",
   "metadata": {},
   "source": [
    "<h3>Task4: types of processor in pc/mobile</h3>"
   ]
  },
  {
   "cell_type": "markdown",
   "id": "42d03a0b",
   "metadata": {},
   "source": [
    "<table>\n",
    "  <tr>\n",
    "    <th>For phones</th>\n",
    "    <th>For laptops</th>\n",
    "  </tr>\n",
    "  <tr>\n",
    "    <td>A15 Bionic (apples)</td>\n",
    "    <td>intel core i7-12700h</td>\n",
    "  </tr>\n",
    "  <tr>\n",
    "    <td>Dimensity 9000 plus(MediaTek)</td>\n",
    "    <td>intel core i7-12800h</td>\n",
    "  </tr>\n",
    "    <tr>\n",
    "        <td>Snapdragon 8 plus gen 1 (qualcomm)</td>\n",
    "        <td>intel core i9-12900h</td>\n",
    "    </tr>\n",
    "    <tr>\n",
    "        <td>Dimensity 9000 (MediaTek)</td>\n",
    "        <td>AMD Ryzen 7 6800H</td>\n",
    "    </tr>\n",
    "    <tr>\n",
    "        <td>snapdrangon 8 gen 1(Qualcomm)</td>\n",
    "        <td>Intel Core i5-12500H</td>\n",
    "    </tr>\n",
    "</table>"
   ]
  },
  {
   "cell_type": "markdown",
   "id": "239e21aa",
   "metadata": {},
   "source": [
    "<h3>Task5:how to make thread faster even if there is no multithreads</h3>"
   ]
  },
  {
   "cell_type": "markdown",
   "id": "32069417",
   "metadata": {},
   "source": [
    "-memoization -dynamic programming -parallel coding -worst cpu is working on 2 threads (main thread & other thread) -tuplation\n"
   ]
  },
  {
   "cell_type": "markdown",
   "id": "7166ea98",
   "metadata": {},
   "source": [
    "<h3>Task6: Hash table?why do we use hash table instead of unordered list</h3>"
   ]
  },
  {
   "cell_type": "markdown",
   "id": "3ff17984",
   "metadata": {},
   "source": [
    "A hash table, also known as a hash map, is a data structure that maps keys to values. It is one part of a technique called hashing, the other of which is a hash function. A hash function is an algorithm that produces an index of where a value can be found or stored in the hash table.\n",
    "\n",
    "Some important notes about hash tables:\n",
    "\n",
    "Values are not stored in a sorted order.\n",
    "You mush account for potential collisions. This is usually done with a technique called chaining. Chaining means to create a linked list of values, the keys of which map to a certain index."
   ]
  },
  {
   "cell_type": "markdown",
   "id": "f66fc0eb",
   "metadata": {},
   "source": [
    "<h3>Tak7:how to print the error from try catch</h3>"
   ]
  },
  {
   "cell_type": "markdown",
   "id": "209b8d05",
   "metadata": {},
   "source": [
    "\n",
    "#For Python 2.6 and later and Python 3.x:\n",
    "\n",
    "except Exception as e: print(e)<br>\n",
    "#For Python 2.5 and earlier, use:\n",
    "\n",
    "except Exception,e: print str(e)"
   ]
  },
  {
   "cell_type": "markdown",
   "id": "b96d1a0d",
   "metadata": {},
   "source": [
    "<h2>personal tasks:</h2>"
   ]
  },
  {
   "cell_type": "markdown",
   "id": "5fdd23f2",
   "metadata": {},
   "source": [
    "WHAT IS TRANSFER LEARNING?<br>\n",
    "Transfer learning, used in machine learning, is the reuse of a pre-trained model on a new problem. In transfer learning, a machine exploits the knowledge gained from a previous task to improve generalization about another. For example, in training a classifier to predict whether an image contains food, you could use the knowledge it gained during training to recognize drinks."
   ]
  },
  {
   "cell_type": "markdown",
   "id": "1f2fba59",
   "metadata": {},
   "source": [
    "With transfer learning, we basically try to exploit what has been learned in one task to improve generalization in another. We transfer the weights that a network has learned at “task A” to a new “task B.”<br>"
   ]
  },
  {
   "cell_type": "markdown",
   "id": "0dba3b4e",
   "metadata": {},
   "source": [
    "The general idea is to use the knowledge a model has learned from a task with a lot of available labeled training data in a new task that doesn't have much data. Instead of starting the learning process from scratch, we start with patterns learned from solving a related task."
   ]
  },
  {
   "cell_type": "markdown",
   "id": "e3cb4e61",
   "metadata": {},
   "source": [
    "Transfer learning is mostly used in computer vision and natural language processing tasks like sentiment analysis due to the huge amount of computational power required."
   ]
  },
  {
   "cell_type": "markdown",
   "id": "99a30aa9",
   "metadata": {},
   "source": [
    "!!!!!!!!!!!!!!!!!!!\n",
    "Transfer learning isn’t really a machine learning technique, but can be seen as a “design methodology” within the field, for example, active learning. It is also not an exclusive part or study-area of machine learning. Nevertheless, it has become quite popular in combination with neural networks that require huge amounts of data and computational power.\n",
    "\n"
   ]
  },
  {
   "cell_type": "markdown",
   "id": "404091e6",
   "metadata": {},
   "source": [
    "the main advantages are saving training time, better performance of neural networks (in most cases), and not needing a lot of data. "
   ]
  },
  {
   "cell_type": "markdown",
   "id": "f536242a",
   "metadata": {},
   "source": [
    "when to use transfer data:<br>\n",
    "There isn't enough labeled training data to train your network from scratch.\n",
    "There already exists a network that is pre-trained on a similar task, which is usually trained on massive amounts of data.\n",
    "When task 1 and task 2 have the same input."
   ]
  },
  {
   "cell_type": "markdown",
   "id": "13b56dcc",
   "metadata": {},
   "source": [
    "that transfer learning only works if the features learned from the first task are general, meaning they can be useful for another related task as well. Also, the input of the model needs to have the same size as it was initially trained with. If you don’t have that, add a pre-processing step to resize your input to the needed size."
   ]
  },
  {
   "cell_type": "markdown",
   "id": "e9fc36e8",
   "metadata": {},
   "source": [
    "more info:https://builtin.com/data-science/transfer-learning"
   ]
  },
  {
   "cell_type": "markdown",
   "id": "ea9ff484",
   "metadata": {},
   "source": [
    "<h3>Fine tuining</h3>"
   ]
  },
  {
   "cell_type": "markdown",
   "id": "356a9def",
   "metadata": {},
   "source": [
    "Thus, tuning an algorithm or machine learning technique, can be simply thought of as process which one goes through in which they optimize the parameters that impact the model in order to enable the algorithm to perform the best (once, of course you have defined what \"best\" actual is)."
   ]
  },
  {
   "cell_type": "markdown",
   "id": "2b60b16d",
   "metadata": {},
   "source": [
    "If you take a machine learning algorithm for clustering like KNN, you will note that you, as the programmer, must specify the number of K's in your model (or centroids), that are used. How do you do this? You tune the model."
   ]
  },
  {
   "cell_type": "markdown",
   "id": "315c9bf1",
   "metadata": {},
   "source": [
    "consider  support vector machine (SVM) classication. SVM classification requires an initial learning phase in which the training data are used to adjust the classication parameters. This really refers to an initial parameter tuning phase where you, as the programmer, might try to \"tune\" the models in order to achieve high quality results."
   ]
  },
  {
   "cell_type": "markdown",
   "id": "87b67fd1",
   "metadata": {},
   "source": [
    "<h3>Auto keras</h3>"
   ]
  },
  {
   "cell_type": "markdown",
   "id": "7df8112c",
   "metadata": {},
   "source": [
    "AutoKeras: An AutoML system based on Keras. It is developed by DATA Lab at Texas A&M University. The goal of AutoKeras is to make machine learning accessible to everyone."
   ]
  },
  {
   "cell_type": "markdown",
   "id": "ad302b4c",
   "metadata": {},
   "source": [
    "AutoKeras is a library enabling the automation of Deep Learning.\n",
    "\n",
    "In fact, AutoKeras is part of what is called AutoML, the Automation of Machine Learning. This library allows you to build Deep Learning models without having to implement the architecture yourself.\n",
    "\n",
    "AutoKeras takes care of choosing the structure of the layers, the number of neurons and even the other hyperparameters such as the optimization and loss functions.\n",
    "\n",
    "For the initiates of classical Machine Learning (with scikit-learn for example), AutoKeras is quite similar to GridSearch.. but much more powerful.\n",
    "\n",
    "Indeed, AutoKeras looks for the best configuration of hyperparameters, but also the best structure to carry out its task (prediction, detection, etc).\n",
    "\n",
    "It will then experiment with several types of model to finally keep only the best one, the one which carries out the task most efficiently.\n",
    "\n",
    "But that’s not all ! In addition to choosing a model for you, AutoKeras also takes care of the preprocessing of the data."
   ]
  },
  {
   "cell_type": "code",
   "execution_count": null,
   "id": "cc8a565f",
   "metadata": {},
   "outputs": [],
   "source": []
  }
 ],
 "metadata": {
  "kernelspec": {
   "display_name": "Python 3 (ipykernel)",
   "language": "python",
   "name": "python3"
  },
  "language_info": {
   "codemirror_mode": {
    "name": "ipython",
    "version": 3
   },
   "file_extension": ".py",
   "mimetype": "text/x-python",
   "name": "python",
   "nbconvert_exporter": "python",
   "pygments_lexer": "ipython3",
   "version": "3.10.2"
  }
 },
 "nbformat": 4,
 "nbformat_minor": 5
}
