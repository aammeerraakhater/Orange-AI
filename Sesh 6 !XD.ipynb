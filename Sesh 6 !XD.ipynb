{
 "cells": [
  {
   "cell_type": "markdown",
   "id": "19fe2fc9",
   "metadata": {},
   "source": [
    "### task 3 : disadvantages of dynamic memory allocation ###"
   ]
  },
  {
   "cell_type": "markdown",
   "id": "dc466bb2",
   "metadata": {},
   "source": [
    "·As the memory is allocated during runtime, it requires more time.\n",
    "\n",
    "·Memory needs to be freed by the user when done. This is important as it is more likely to turn into bugs that are difficult to find.\n",
    "\n",
    "\n",
    "<br>\n",
    "1-Compiler only removes the non dynamically allocated objects from stack segment once they are not in use.\n",
    "\n",
    "The compiler is not responsible for deallocation of dynamically allocated objects. A user should always deallocate them. This is a matter of serious responsibility. If the dynamically allocated objects aren’t deallocated, it may lead to memory leaks.<br>\n",
    "for C++, dynamic memory deallocation has no practical disadvantage in most cases. C, on the other hand, has the issue that you need to manage deallocation correctly every time and that is really hard to do correctly in even a mildly complex code base.<br>\n",
    "2-extra memory is needed for the meta data used to track the allocated memory, and the risk of not having any memory available when needed.<br>\n",
    "3-The generic malloc/new allocator is fairly slow (~100ns per malloc/free or more on a modern machine), but you can always put a faster, non-generic allocator in front of it or at least batch your allocations a bit. The returned memory might have poor cache locality, but that can again be mitigated with a custom allocator or by batching your allocations. You have to pair mallocs with frees (news with deletes), but that can be automated (or for very small allocation, you can use alloca (which doesn’t have a matching freeing call), which also helps with cache locality).<br><hr>"
   ]
  },
  {
   "cell_type": "markdown",
   "id": "7e813edc",
   "metadata": {},
   "source": [
    "### task 4: stack/heap ###"
   ]
  },
  {
   "cell_type": "markdown",
   "id": "2589e16a",
   "metadata": {},
   "source": [
    "<pre><b>Key Difference Between Stack and Heap Memory</b>\n",
    "Stack is a linear data structure whereas Heap is a hierarchical data structure.\n",
    "Stack memory will never become fragmented whereas Heap memory can become fragmented as blocks of memory are first allocated and then freed.\n",
    "Stack accesses local variables only while Heap allows you to access variables globally.\n",
    "Stack variables can’t be resized whereas Heap variables can be resized.\n",
    "Stack memory is allocated in a contiguous block whereas Heap memory is allocated in any random order.\n",
    "Stack doesn’t require to de-allocate variables whereas in Heap de-allocation is needed.\n",
    "Stack allocation and deallocation are done by compiler instructions whereas Heap allocation and deallocation is done by the programmer.</pre>\n",
    "<pre>What is a Stack?\n",
    "A stack is a special area of computer’s memory which stores temporary variables created by a function. In stack, variables are declared, stored and initialized during runtime.\n",
    "\n",
    "It is a temporary storage memory. When the computing task is complete, the memory of the variable will be automatically erased. The stack section mostly contains methods, local variable, and reference variables.</pre>\n",
    "<pre>What is Heap?\n",
    "The heap is a memory used by programming languages to store global variables. By default, all global variable are stored in heap memory space. It supports Dynamic memory allocation.\n",
    "\n",
    "The heap is not managed automatically for you and is not as tightly managed by the CPU. It is more like a free-floating region of memory.</pre>\n",
    "<table>\n",
    "<thead>\n",
    "<tr>\n",
    "<th class=\"vs-sticky\">Parameter</th>\n",
    "<th>Stack</th>\n",
    "<th>Heap</th>\n",
    "</tr>\n",
    "</thead>\n",
    "<tbody>\n",
    "<tr>\n",
    "<td class=\"vs-sticky\">Type of data structures</td>\n",
    "<td>A stack is a linear data structure.</td>\n",
    "<td>Heap is a hierarchical data structure.</td>\n",
    "</tr>\n",
    "<tr>\n",
    "<td class=\"vs-sticky\">Access speed</td>\n",
    "<td>High-speed access</td>\n",
    "<td>Slower compared to stack</td>\n",
    "</tr>\n",
    "<tr>\n",
    "<td class=\"vs-sticky\">Space management</td>\n",
    "<td>Space managed efficiently by OS so memory will never become fragmented.</td>\n",
    "<td>Heap Space not used as efficiently. Memory can become fragmented as blocks of memory first allocated and then freed.</td>\n",
    "</tr>\n",
    "<tr>\n",
    "<td class=\"vs-sticky\">Access</td>\n",
    "<td>Local variables only</td>\n",
    "<td>It allows you to access variables globally.</td>\n",
    "</tr>\n",
    "<tr>\n",
    "<td class=\"vs-sticky\">Limit of space size</td>\n",
    "<td>Limit on stack size dependent on OS.</td>\n",
    "<td>Does not have a specific limit on memory size.</td>\n",
    "</tr>\n",
    "<tr>\n",
    "<td class=\"vs-sticky\">Resize</td>\n",
    "<td>Variables cannot be resized</td>\n",
    "<td>Variables can be resized.</td>\n",
    "</tr>\n",
    "<tr>\n",
    "<td class=\"vs-sticky\">Memory Allocation</td>\n",
    "<td>Memory is allocated in a contiguous block.</td>\n",
    "<td>Memory is allocated in any random order.</td>\n",
    "</tr>\n",
    "<tr>\n",
    "<td class=\"vs-sticky\">Allocation and Deallocation</td>\n",
    "<td>Automatically done by compiler instructions.</td>\n",
    "<td>It is manually done by the programmer.</td>\n",
    "</tr>\n",
    "<tr>\n",
    "<td class=\"vs-sticky\">Deallocation</td>\n",
    "<td>Does not require to de-allocate variables.</td>\n",
    "<td>Explicit de-allocation is needed.</td>\n",
    "</tr>\n",
    "<tr>\n",
    "<td class=\"vs-sticky\">Cost</td>\n",
    "<td>Less</td>\n",
    "<td>More</td>\n",
    "</tr>\n",
    "<tr>\n",
    "<td class=\"vs-sticky\">Implementation</td>\n",
    "<td>A stack can be implemented in 3 ways simple array based, using dynamic memory, and Linked list based.</td>\n",
    "<td>Heap can be implemented using array and trees.</td>\n",
    "</tr>\n",
    "<tr>\n",
    "<td class=\"vs-sticky\">Main Issue</td>\n",
    "<td>Shortage of memory</td>\n",
    "<td>Memory fragmentation</td>\n",
    "</tr>\n",
    "<tr>\n",
    "<td class=\"vs-sticky\">Locality of reference</td>\n",
    "<td>Automatic compile time instructions.</td>\n",
    "<td>Adequate</td>\n",
    "</tr>\n",
    "<tr>\n",
    "<td class=\"vs-sticky\">Flexibility</td>\n",
    "<td>Fixed size</td>\n",
    "<td>Resizing is possible</td>\n",
    "</tr>\n",
    "<tr>\n",
    "<td class=\"vs-sticky\">Access time</td>\n",
    "<td>Faster</td>\n",
    "<td>Slower</td>\n",
    "</tr>\n",
    "</tbody>\n",
    "</table>\n",
    "<pre>\n",
    "\n",
    "</pre>"
   ]
  },
  {
   "cell_type": "markdown",
   "id": "a7377fbe",
   "metadata": {},
   "source": [
    "### task 5: cpp ai frameworks ###"
   ]
  },
  {
   "cell_type": "markdown",
   "id": "8f440392",
   "metadata": {},
   "source": [
    "<pre>\n",
    "TensorFlow\n",
    "1-Caffe\n",
    "2-Microsoft Cognitive Toolkit (CNTK)\n",
    "3-mlpack Library\n",
    "5-Armadillo\n",
    "6-ML pack C++ Library\n",
    "why is Tensor flow good?\n",
    "<pre>\n",
    "TensorFlow made Machine Learning easy: With pre-trained models, data, and high-level APIs, it has become easy for everyone to build ML models.\n",
    "Mostly used by researchers: Most of the researchers and students use TensorFlow in their research and model building.\n",
    "Ready-made models for production purposes: TensorFlow supports pre-trained models which can be used instantly for production and experiment.\n",
    "Using TensorFlow, ML is used as a service: Machine Learning has become a service with the help of TensorFlow. One can use the model required from the TensorFlow models.\n",
    "Used by many companies: TensorFlow is used by many companies, like Google, Intel, DeepMind, Twitter, Uber, DropBox, AirBnb, etc. More than 400 companies are using TensorFlow.\n",
    "</pre>\n",
    "</pre>"
   ]
  },
  {
   "cell_type": "markdown",
   "id": "c02d475f",
   "metadata": {},
   "source": [
    "### task6: windows equivelant to cronjobs ###"
   ]
  },
  {
   "cell_type": "markdown",
   "id": "acf3085a",
   "metadata": {},
   "source": [
    "<pre>windows task sceudlar\n",
    "Another idea is to use Cygwin and use VixieCron. \n",
    "</pre>"
   ]
  },
  {
   "cell_type": "markdown",
   "id": "817a8585",
   "metadata": {},
   "source": [
    "### task7: dark side of cronjobs *pooling* ###"
   ]
  },
  {
   "cell_type": "markdown",
   "id": "ea78b24a",
   "metadata": {},
   "source": [
    "<pre>\n",
    "Smallest resolution is 1 minute—If a task needs to run every 30 seconds, you can’t do it with cron.\n",
    "Error handling—If a job fails, what should happen? Solutions have been built to solve this single problem. Developers love adding more band-aids rather than admitting there is a better way. Deja Vu?\n",
    "Logging—Crons don’t log, unless you tell them too. It is rare to see people log output of their cron jobs.\n",
    "Working with cron pulls you out of the application—cron is a system level process. Not an application process. It’s challenging to give application developers access to anything at a system level. Developers shouldn’t care where their application runs… A good example of this is timezones. If a system person changes the timezone of a server, the cron may run at a different time than expected. The less the app developers have to worry about what they run on, the better.\n",
    "</pre>"
   ]
  },
  {
   "cell_type": "markdown",
   "id": "ddd1f5f6",
   "metadata": {},
   "source": [
    "### task8: how to make priority queue switch its priority ? ###"
   ]
  },
  {
   "cell_type": "markdown",
   "id": "683a6b1b",
   "metadata": {},
   "source": [
    "multiply by -1 to inverse the order"
   ]
  },
  {
   "cell_type": "markdown",
   "id": "76b7aefc",
   "metadata": {},
   "source": [
    "<b>operator overloading </b> The operator keyword declares a function specifying what operator-symbol means when applied to instances of a class. This gives the operator more than one meaning, or \"overloads\" it. The compiler distinguishes between the different meanings of an operator by examining the types of its operands.\n",
    "In C++, we can make operators work for user-defined classes. This means C++ has the ability to provide the operators with a special meaning for a data type, this ability is known as operator overloading. For example, we can overload an operator ‘+’ in a class like String so that we can concatenate two strings by just using +. Other example classes where arithmetic operators may be overloaded are Complex Numbers, Fractional Numbers, Big Integer, etc.\n",
    "\n",
    "Operator overloading is a # compile-time polymorphism #. It is an idea of giving special meaning to an existing operator in C++ without changing its original meaning.\n"
   ]
  },
  {
   "cell_type": "markdown",
   "id": "32664303",
   "metadata": {},
   "source": [
    "### task 9: hash video by adel nassem ###"
   ]
  },
  {
   "cell_type": "markdown",
   "id": "94020e20",
   "metadata": {},
   "source": [
    "### task 10: maps video by adel nassem ###"
   ]
  },
  {
   "cell_type": "markdown",
   "id": "9c11b5bb",
   "metadata": {},
   "source": [
    "Resources:\n",
    "https://www.quora.com/What-are-the-disadvantages-of-dynamic-memory-allocation-in-C-C++?share=1<br>\n",
    "https://brainly.in/question/1656787<br>\n",
    "https://www.guru99.com/stack-vs-heap.html#6<br>\n",
    "https://analyticsindiamag.com/top-10-libraries-in-c-c-for-machine-learning/<br>\n",
    "https://www.analyticsinsight.net/top-10-c-frameworks-for-machine-learning-in-2021/<br>\n",
    "https://superuser.com/questions/6490/windows-equivalent-to-cron<br>"
   ]
  },
  {
   "cell_type": "markdown",
   "id": "e29ba46e",
   "metadata": {},
   "source": []
  },
  {
   "cell_type": "code",
   "execution_count": null,
   "id": "39ebc1bf",
   "metadata": {},
   "outputs": [],
   "source": []
  }
 ],
 "metadata": {
  "kernelspec": {
   "display_name": "Python 3 (ipykernel)",
   "language": "python",
   "name": "python3"
  },
  "language_info": {
   "codemirror_mode": {
    "name": "ipython",
    "version": 3
   },
   "file_extension": ".py",
   "mimetype": "text/x-python",
   "name": "python",
   "nbconvert_exporter": "python",
   "pygments_lexer": "ipython3",
   "version": "3.10.2"
  }
 },
 "nbformat": 4,
 "nbformat_minor": 5
}
